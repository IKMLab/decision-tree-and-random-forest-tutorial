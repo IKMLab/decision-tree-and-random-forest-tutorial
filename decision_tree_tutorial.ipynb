{
 "cells": [
  {
   "cell_type": "markdown",
   "metadata": {},
   "source": [
    "# Decision Trees"
   ]
  },
  {
   "cell_type": "code",
   "execution_count": 2,
   "metadata": {},
   "outputs": [],
   "source": [
    "import pandas as pd\n",
    "import numpy as np\n",
    "import random\n",
    "from sklearn import model_selection, metrics, tree, ensemble\n",
    "import matplotlib.pyplot as plt"
   ]
  },
  {
   "cell_type": "markdown",
   "metadata": {},
   "source": [
    "Please see our GitHub pdf if you require a refresher on the concept of decision trees: https://github.com/IKMLab/decision-tree-and-random-forest-tutorial/blob/master/decision_tree.pdf. These slides use a different dataset.\n",
    "\n",
    "We will use the South African heart disease dataset we were using for logistic regression. We will see if we can beat our previous best test set accuracy.\n",
    "\n",
    "Much of the data preparation phase is the same as we have seen in the last three tutorials so we will not explain it. The code should be clear to you by now hopefully."
   ]
  },
  {
   "cell_type": "markdown",
   "metadata": {},
   "source": [
    "## Load and Prepare Data"
   ]
  },
  {
   "cell_type": "code",
   "execution_count": 3,
   "metadata": {},
   "outputs": [
    {
     "data": {
      "text/html": [
       "<div>\n",
       "<style scoped>\n",
       "    .dataframe tbody tr th:only-of-type {\n",
       "        vertical-align: middle;\n",
       "    }\n",
       "\n",
       "    .dataframe tbody tr th {\n",
       "        vertical-align: top;\n",
       "    }\n",
       "\n",
       "    .dataframe thead th {\n",
       "        text-align: right;\n",
       "    }\n",
       "</style>\n",
       "<table border=\"1\" class=\"dataframe\">\n",
       "  <thead>\n",
       "    <tr style=\"text-align: right;\">\n",
       "      <th></th>\n",
       "      <th>sbp</th>\n",
       "      <th>tobacco</th>\n",
       "      <th>ldl</th>\n",
       "      <th>adiposity</th>\n",
       "      <th>famhist</th>\n",
       "      <th>typea</th>\n",
       "      <th>obesity</th>\n",
       "      <th>alcohol</th>\n",
       "      <th>age</th>\n",
       "      <th>chd</th>\n",
       "    </tr>\n",
       "    <tr>\n",
       "      <th>row.names</th>\n",
       "      <th></th>\n",
       "      <th></th>\n",
       "      <th></th>\n",
       "      <th></th>\n",
       "      <th></th>\n",
       "      <th></th>\n",
       "      <th></th>\n",
       "      <th></th>\n",
       "      <th></th>\n",
       "      <th></th>\n",
       "    </tr>\n",
       "  </thead>\n",
       "  <tbody>\n",
       "    <tr>\n",
       "      <th>1</th>\n",
       "      <td>160</td>\n",
       "      <td>12.00</td>\n",
       "      <td>5.73</td>\n",
       "      <td>23.11</td>\n",
       "      <td>Present</td>\n",
       "      <td>49</td>\n",
       "      <td>25.30</td>\n",
       "      <td>97.20</td>\n",
       "      <td>52</td>\n",
       "      <td>1</td>\n",
       "    </tr>\n",
       "    <tr>\n",
       "      <th>2</th>\n",
       "      <td>144</td>\n",
       "      <td>0.01</td>\n",
       "      <td>4.41</td>\n",
       "      <td>28.61</td>\n",
       "      <td>Absent</td>\n",
       "      <td>55</td>\n",
       "      <td>28.87</td>\n",
       "      <td>2.06</td>\n",
       "      <td>63</td>\n",
       "      <td>1</td>\n",
       "    </tr>\n",
       "    <tr>\n",
       "      <th>3</th>\n",
       "      <td>118</td>\n",
       "      <td>0.08</td>\n",
       "      <td>3.48</td>\n",
       "      <td>32.28</td>\n",
       "      <td>Present</td>\n",
       "      <td>52</td>\n",
       "      <td>29.14</td>\n",
       "      <td>3.81</td>\n",
       "      <td>46</td>\n",
       "      <td>0</td>\n",
       "    </tr>\n",
       "    <tr>\n",
       "      <th>4</th>\n",
       "      <td>170</td>\n",
       "      <td>7.50</td>\n",
       "      <td>6.41</td>\n",
       "      <td>38.03</td>\n",
       "      <td>Present</td>\n",
       "      <td>51</td>\n",
       "      <td>31.99</td>\n",
       "      <td>24.26</td>\n",
       "      <td>58</td>\n",
       "      <td>1</td>\n",
       "    </tr>\n",
       "    <tr>\n",
       "      <th>5</th>\n",
       "      <td>134</td>\n",
       "      <td>13.60</td>\n",
       "      <td>3.50</td>\n",
       "      <td>27.78</td>\n",
       "      <td>Present</td>\n",
       "      <td>60</td>\n",
       "      <td>25.99</td>\n",
       "      <td>57.34</td>\n",
       "      <td>49</td>\n",
       "      <td>1</td>\n",
       "    </tr>\n",
       "  </tbody>\n",
       "</table>\n",
       "</div>"
      ],
      "text/plain": [
       "           sbp  tobacco   ldl  adiposity  famhist  typea  obesity  alcohol  \\\n",
       "row.names                                                                    \n",
       "1          160    12.00  5.73      23.11  Present     49    25.30    97.20   \n",
       "2          144     0.01  4.41      28.61   Absent     55    28.87     2.06   \n",
       "3          118     0.08  3.48      32.28  Present     52    29.14     3.81   \n",
       "4          170     7.50  6.41      38.03  Present     51    31.99    24.26   \n",
       "5          134    13.60  3.50      27.78  Present     60    25.99    57.34   \n",
       "\n",
       "           age  chd  \n",
       "row.names            \n",
       "1           52    1  \n",
       "2           63    1  \n",
       "3           46    0  \n",
       "4           58    1  \n",
       "5           49    1  "
      ]
     },
     "execution_count": 3,
     "metadata": {},
     "output_type": "execute_result"
    }
   ],
   "source": [
    "file_name = 'SAheart.data.csv'\n",
    "data = pd.read_csv(file_name, index_col=0)\n",
    "data.head()"
   ]
  },
  {
   "cell_type": "markdown",
   "metadata": {},
   "source": [
    "### Categorial Variables\n",
    "\n",
    "With decision trees we don't need to split categorical variables into binary variables because the decision tree is able to make it's decisions based on the labels.\n",
    "\n",
    "However we do have to change them into integer labels, not strings. We will make `Present` equal to `1` and `Absent` equal to `0`."
   ]
  },
  {
   "cell_type": "code",
   "execution_count": 4,
   "metadata": {},
   "outputs": [],
   "source": [
    "data['famhist'] = data['famhist'] == 'Present'"
   ]
  },
  {
   "cell_type": "markdown",
   "metadata": {},
   "source": [
    "### Train-Test Split\n",
    "\n",
    "Let's control randomization for a fair comparison"
   ]
  },
  {
   "cell_type": "code",
   "execution_count": 5,
   "metadata": {},
   "outputs": [],
   "source": [
    "random.seed(42)\n",
    "np.random.seed(42)\n",
    "train, test = model_selection.train_test_split(data)"
   ]
  },
  {
   "cell_type": "markdown",
   "metadata": {},
   "source": [
    "### Split Features and Response"
   ]
  },
  {
   "cell_type": "code",
   "execution_count": 6,
   "metadata": {},
   "outputs": [],
   "source": [
    "x_train = train.loc[:, train.columns != 'chd']\n",
    "y_train = train['chd']\n",
    "x_test = test.loc[:, test.columns != 'chd']\n",
    "y_test = test['chd']\n",
    "splits = (x_train, y_train, x_test, y_test)"
   ]
  },
  {
   "cell_type": "markdown",
   "metadata": {},
   "source": [
    "## Fit Baseline Model\n",
    "\n",
    "We will use `sklearn.tree.DecisionTreeClassifier` to fit this data - reference here http://scikit-learn.org/stable/modules/generated/sklearn.tree.DecisionTreeClassifier.html.\n",
    "\n",
    "### Bias-Variance Trade-Off\n",
    "\n",
    "How do we control regularization and model complexity with decision trees? Let's consider some of the hyperparameters of the model listed in the documentation. (We won't cover all - the documentation lists them all). Consider `max_depth`: how many decisions the tree can make. The more decisions we can make the more flexible our model is. Also consider `min_samples_split` and `min_samples_leaf`. With the default minimum of 1 sample per leaf and an unlimited depth, our decision tree will complete fit the data. Let's try that first and see the result."
   ]
  },
  {
   "cell_type": "code",
   "execution_count": 7,
   "metadata": {},
   "outputs": [
    {
     "name": "stdout",
     "output_type": "stream",
     "text": [
      "Training accuracy: 1.0\n",
      "Testing accuracy: 0.5603448275862069\n"
     ]
    }
   ],
   "source": [
    "def train_and_evaluate(model, splits):\n",
    "    x_train, y_train, x_test, y_test = splits\n",
    "    model.fit(x_train, y_train)\n",
    "    preds_train = model_bl.predict(x_train)\n",
    "    preds_test = model_bl.predict(x_test)\n",
    "    acc_train = metrics.accuracy_score(y_train, preds_train)\n",
    "    acc_test = metrics.accuracy_score(y_test, preds_test)\n",
    "    print('Training accuracy: %s' % acc_train)\n",
    "    print('Testing accuracy: %s' % acc_test)\n",
    "\n",
    "model_bl = tree.DecisionTreeClassifier()\n",
    "train_and_evaluate(model_bl, splits)"
   ]
  },
  {
   "cell_type": "markdown",
   "metadata": {},
   "source": [
    "We have totally fit the training data - training accuracy is 100%. We can congratulate ourselves. But wait, testing data is terrible at 55%? This is even worse than our much simpler logistic regression model. This is serious overfitting.\n",
    "\n",
    "For our baseline let's try limiting the depth of the tree. Let's try some values to see the difference."
   ]
  },
  {
   "cell_type": "code",
   "execution_count": 8,
   "metadata": {},
   "outputs": [
    {
     "name": "stdout",
     "output_type": "stream",
     "text": [
      "Training accuracy: 0.8005780346820809\n",
      "Testing accuracy: 0.6551724137931034\n"
     ]
    }
   ],
   "source": [
    "model_bl = tree.DecisionTreeClassifier(max_depth=5)\n",
    "train_and_evaluate(model_bl, splits)"
   ]
  },
  {
   "cell_type": "code",
   "execution_count": 9,
   "metadata": {},
   "outputs": [
    {
     "name": "stdout",
     "output_type": "stream",
     "text": [
      "Training accuracy: 0.6994219653179191\n",
      "Testing accuracy: 0.6724137931034483\n"
     ]
    }
   ],
   "source": [
    "model_bl = tree.DecisionTreeClassifier(max_depth=1)\n",
    "train_and_evaluate(model_bl, splits)"
   ]
  },
  {
   "cell_type": "code",
   "execution_count": 10,
   "metadata": {},
   "outputs": [
    {
     "name": "stdout",
     "output_type": "stream",
     "text": [
      "Training accuracy: 0.7312138728323699\n",
      "Testing accuracy: 0.6896551724137931\n"
     ]
    }
   ],
   "source": [
    "model_bl = tree.DecisionTreeClassifier(max_depth=3)\n",
    "train_and_evaluate(model_bl, splits)"
   ]
  },
  {
   "cell_type": "markdown",
   "metadata": {},
   "source": [
    "We can see that even considering a depth of 5 this dataset is overfitting. With a depth of 1 we are underfitting. A depth of 2-3 is a bit better.\n",
    "\n",
    "This is of course just to consider one of our hyperparameters. Experiment now with other hyperparameters (refer to the documentation http://scikit-learn.org/stable/modules/generated/sklearn.tree.DecisionTreeClassifier.html) and get a feeling for what they do. There is no need to work for the best score just yet. But do get a feeling for what the hyperparameters do and how they control the bias-variance trade-off."
   ]
  },
  {
   "cell_type": "code",
   "execution_count": 11,
   "metadata": {},
   "outputs": [
    {
     "name": "stdout",
     "output_type": "stream",
     "text": [
      "Training accuracy: 1.0\n",
      "Testing accuracy: 0.5517241379310345\n"
     ]
    }
   ],
   "source": [
    "\"\"\"\n",
    "Task: Experiment with the decision tree hyperparameters\n",
    "\"\"\"\n",
    "model_bl = tree.DecisionTreeClassifier()  # experimet with the parameters here\n",
    "train_and_evaluate(model_bl, splits)"
   ]
  },
  {
   "cell_type": "markdown",
   "metadata": {},
   "source": [
    "## Ensembling\n",
    "\n",
    "A nice trick we can use to reduce the variance of our models is to train many models and average their predictions. This is called **ensemble learning** (https://en.wikipedia.org/wiki/Ensemble_learning).\n",
    "\n",
    "Ensembling can work with the same model trained on different subsets of the original training data randomly sampled with replacement. This is a technqiue known as **bootstrap aggregating** (https://en.wikipedia.org/wiki/Bootstrap_aggregating).\n",
    "\n",
    "It can also work with different models - e.g. a decision tree classifier and a logistic regression classifier together."
   ]
  },
  {
   "cell_type": "markdown",
   "metadata": {},
   "source": [
    "## Random Forests\n",
    "\n",
    "Ensembling with decision trees has its own special algorithm: **random forests**. We train a number of decision trees on randomly sampled subsets of the data and average the predictions.\n",
    "\n",
    "We can implement a random forest with `sklearn.ensemble.RandomForestClassifier` - reference here http://scikit-learn.org/stable/modules/generated/sklearn.ensemble.RandomForestClassifier.html.\n",
    "\n",
    "We have mostly the same hyperparameters as decision trees but we have one important new one: `n_estimators`. This controls how many trees in the forest, and correspondingly how big the benenficial effects of ensembling are. The trade-off is computation time - with a very large dataset this might be a problem. With our small dataset it will not be a problem.\n",
    "\n",
    "Let's find the value of `n_estimators` of our baseline decision tree beyond which we can't improve. We will of course use **cross validation** on the training set, **not** the test set, to find this value.\n",
    "\n",
    "Running the next cell may nevertheless take a minute, be patient!"
   ]
  },
  {
   "cell_type": "code",
   "execution_count": 12,
   "metadata": {},
   "outputs": [
    {
     "data": {
      "image/png": "[encoded data removed]",
      "text/plain": [
       "<Figure size 432x288 with 1 Axes>"
      ]
     },
     "metadata": {},
     "output_type": "display_data"
    }
   ],
   "source": [
    "# this cell may take a minute to load\n",
    "def scorer(model, X, y):\n",
    "    preds = model.predict(X)\n",
    "    return metrics.accuracy_score(y, preds)\n",
    "\n",
    "max_n = 50\n",
    "accs = []\n",
    "for n in range(1, max_n):\n",
    "    model = ensemble.RandomForestClassifier(max_depth=3, n_estimators=n)\n",
    "    acc = model_selection.cross_val_score(model, x_train, y_train, cv=10, scoring=scorer)\n",
    "    accs.append(acc.mean())\n",
    "\n",
    "plt.plot(range(1, max_n), accs)\n",
    "plt.xlabel('n_estimators')\n",
    "plt.ylabel('cross validated accuracy')\n",
    "plt.show()"
   ]
  },
  {
   "cell_type": "markdown",
   "metadata": {},
   "source": [
    "Examine this plot. What do you think is the value of `n_estimators` beyond which there is no clear benefit? I will choose 20 as it seems the pattern has roughly settled down."
   ]
  },
  {
   "cell_type": "markdown",
   "metadata": {},
   "source": [
    "## Challenge\n",
    "\n",
    "Tune a random forest by finding the hyperparameters that give you the best test set accuracy you can find. Refer to the documentation for `sklearn.ensemble.RandomForestClassifier` (http://scikit-learn.org/stable/modules/generated/sklearn.ensemble.RandomForestClassifier.html). Feel free to use a grid search (refer to the grid search example from the logistic regression tutorial if necessary: https://github.com/IKMLab/Logistic-Regression-Tutorial/blob/publish/logistic_regression_tutorial.ipynb).\n",
    "\n",
    "At the end, compare your best test set accuracy with your result with logistic regression. Which is the better classifier for this task for you?"
   ]
  },
  {
   "cell_type": "code",
   "execution_count": null,
   "metadata": {},
   "outputs": [],
   "source": [
    "\"\"\"\n",
    "Task: \n",
    "  Find your best random forest model. \n",
    "  Beat my baseline of 68.97. \n",
    "  How does your performance compare to logistic regression?\n",
    "\"\"\""
   ]
  },
  {
   "cell_type": "markdown",
   "metadata": {},
   "source": [
    "Helper functions (don't edit)"
   ]
  },
  {
   "cell_type": "code",
   "execution_count": 22,
   "metadata": {},
   "outputs": [],
   "source": [
    "def get_feature_set(data, wanted_features):\n",
    "    return data.loc[:, [col in wanted_features for col in data.columns]]\n",
    "\n",
    "def split(data):\n",
    "    # control randomization for reproducibility\n",
    "    np.random.seed(42)\n",
    "    random.seed(42)\n",
    "    train, test = model_selection.train_test_split(data)\n",
    "    x_train = train.loc[:, train.columns != 'chd']\n",
    "    y_train = train['chd']\n",
    "    x_test = test.loc[:, test.columns != 'chd']\n",
    "    y_test = test['chd']\n",
    "    return x_train, y_train, x_test, y_test\n",
    "\n",
    "def best_grid_model(param_grid, x_train, y_train):\n",
    "    grid_search = model_selection.GridSearchCV(       # perform grid search\n",
    "        estimator=ensemble.RandomForestClassifier(),\n",
    "        param_grid=param_grid,\n",
    "        cv=10,\n",
    "        return_train_score=True)\n",
    "    grid_search.fit(x_train, y_train)\n",
    "    best_model = grid_search.best_estimator_\n",
    "    print(grid_search.best_params_)\n",
    "    return best_model\n",
    "\n",
    "def evaluate(model, x_train, y_train, x_test, y_test):\n",
    "    train_preds = model.predict(x_train)\n",
    "    test_preds = model.predict(x_test)\n",
    "    train_acc = metrics.accuracy_score(y_train, train_preds)\n",
    "    test_acc = metrics.accuracy_score(y_test, test_preds)\n",
    "    print('Train accuracy: %s' % train_acc)\n",
    "    print('Test accuracy: %s' % test_acc)"
   ]
  },
  {
   "cell_type": "markdown",
   "metadata": {},
   "source": [
    "If you want a subset of the features change this to be a list of feature names"
   ]
  },
  {
   "cell_type": "code",
   "execution_count": 23,
   "metadata": {},
   "outputs": [],
   "source": [
    "wanted_features = data.columns"
   ]
  },
  {
   "cell_type": "code",
   "execution_count": 24,
   "metadata": {},
   "outputs": [],
   "source": [
    "my_data = get_feature_set(data, wanted_features)  # feature selection\n",
    "x_train, y_train, x_test, y_test = split(my_data) # splits"
   ]
  },
  {
   "cell_type": "markdown",
   "metadata": {},
   "source": [
    "For if you want to use grid"
   ]
  },
  {
   "cell_type": "code",
   "execution_count": 29,
   "metadata": {},
   "outputs": [
    {
     "name": "stdout",
     "output_type": "stream",
     "text": [
      "{'max_depth': None, 'n_estimators': 10}\n",
      "Train accuracy: 0.9826589595375722\n",
      "Test accuracy: 0.6896551724137931\n"
     ]
    }
   ],
   "source": [
    "# update this!\n",
    "param_grid = {\n",
    "    'max_depth': [None],\n",
    "    'n_estimators': [10]\n",
    "}\n",
    "best_model = best_grid_model(param_grid, x_train, y_train)\n",
    "evaluate(best_model, x_train, y_train, x_test, y_test)"
   ]
  }
 ],
 "metadata": {
  "kernelspec": {
   "display_name": "Python [conda env:py36]",
   "language": "python",
   "name": "conda-env-py36-py"
  },
  "language_info": {
   "codemirror_mode": {
    "name": "ipython",
    "version": 3
   },
   "file_extension": ".py",
   "mimetype": "text/x-python",
   "name": "python",
   "nbconvert_exporter": "python",
   "pygments_lexer": "ipython3",
   "version": "3.6.6"
  }
 },
 "nbformat": 4,
 "nbformat_minor": 2
}
